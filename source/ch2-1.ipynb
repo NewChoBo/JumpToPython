{
 "cells": [
  {
   "cell_type": "markdown",
   "metadata": {},
   "source": [
    "# 자료형\n",
    "\n",
    "- 1 + 1, '1' + '1', 1 + '1'의 결과가 모두 다르다.\n",
    "\n",
    "# 변수\n",
    "- a = 123\n",
    "- print(type(a))\n",
    "- print(a)\n",
    "\n",
    "# 연산자\n",
    "- +, -, *, /, //, %, **"
   ]
  },
  {
   "cell_type": "code",
   "execution_count": 48,
   "metadata": {},
   "outputs": [
    {
     "name": "stdout",
     "output_type": "stream",
     "text": [
      "<class 'int'>\n",
      "123\n"
     ]
    }
   ],
   "source": [
    "a = 123\n",
    "print(type(a))\n",
    "print(a)"
   ]
  },
  {
   "cell_type": "markdown",
   "metadata": {},
   "source": [
    "# 문자열"
   ]
  },
  {
   "cell_type": "code",
   "execution_count": 49,
   "metadata": {},
   "outputs": [
    {
     "name": "stdout",
     "output_type": "stream",
     "text": [
      "29\n",
      "1) e\n",
      "2) e i\n",
      "3) e is so strange. Isn't i\n",
      "4) L\n",
      "5) ?\n",
      "6) Isn't it?\n",
      "7) Lf ss tag.Inti?\n",
      "8) ?ti t'nsI .egnarts os si efiL\n"
     ]
    }
   ],
   "source": [
    "a = \"Life is so strange. Isn't it?\"\n",
    "print(len(a))\n",
    "print(\"1) \" + a[3])\n",
    "print(\"2) \" + a[3:6])\n",
    "print(\"3) \" + a[3:-2])\n",
    "print(\"4) \" + a[0])\n",
    "print(\"5) \" + a[-1])\n",
    "print(\"6) \" + a[20:])\n",
    "print(\"7) \" + a[::2])\n",
    "print(\"8) \" + a[::-1])"
   ]
  },
  {
   "cell_type": "code",
   "execution_count": 50,
   "metadata": {},
   "outputs": [
    {
     "name": "stdout",
     "output_type": "stream",
     "text": [
      "현재 온도는 10도 입니다.\n",
      "현재 온도는 2도 입니다.\n",
      "현재 온도는 five도 입니다.\n",
      "현재 온도는 2도 입니다. 요일은 monday요일 입니다.\n",
      "He is 2 years old. And Today is monday.\n",
      "He is 10 years old. And Today is 5.\n",
      "He is 2 years old. And Today is monday.\n",
      "He is 2 years old. And Today is tuesday.\n"
     ]
    }
   ],
   "source": [
    "# %s: String\n",
    "# %c: char\n",
    "# %d: integer\n",
    "# %f: float\n",
    "# %o: octal(8진수)\n",
    "# %x: hex(16진수)\n",
    "# %%: Literal % 문자 (문자 % 자체) -> //와 유사\n",
    "\n",
    "num = 2\n",
    "day = \"monday\"\n",
    "\n",
    "template = \"현재 온도는 %d도 입니다.\" % 10 # %d: 데시말(10진법)\n",
    "print(template)\n",
    "\n",
    "template = \"현재 온도는 %d도 입니다.\" % num\n",
    "print(template)\n",
    "\n",
    "template = \"현재 온도는 %s도 입니다.\" % \"five\"\n",
    "print(template)\n",
    "\n",
    "template = \"현재 온도는 %s도 입니다. 요일은 %s요일 입니다.\" % (num, day)\n",
    "print(template)\n",
    "\n",
    "template = \"He is {0} years old. And Today is {1}.\".format(num, day)\n",
    "print(template)\n",
    "\n",
    "template = \"He is {num} years old. And Today is {day}.\".format(num=10, day=5)\n",
    "print(template)\n",
    "\n",
    "template = \"He is {number} years old. And Today is {day}.\".format(number=num, day=day)\n",
    "print(template)\n",
    "\n",
    "# 섞을 수도 있음\n",
    "template = \"He is {0} years old. And Today is {day}.\".format(num, day=\"tuesday\")\n",
    "print(template)"
   ]
  },
  {
   "cell_type": "code",
   "execution_count": 51,
   "metadata": {},
   "outputs": [
    {
     "name": "stdout",
     "output_type": "stream",
     "text": [
      "홍길동은 25살입니다.\n"
     ]
    }
   ],
   "source": [
    "name = '홍길동'\n",
    "age = 25\n",
    "sentence = f\"{name}은 {age}살입니다.\"\n",
    "print(sentence)"
   ]
  },
  {
   "cell_type": "code",
   "execution_count": 52,
   "metadata": {},
   "outputs": [
    {
     "name": "stdout",
     "output_type": "stream",
     "text": [
      "2\n",
      "2\n",
      "-1\n",
      "2\n"
     ]
    },
    {
     "ename": "ValueError",
     "evalue": "substring not found",
     "output_type": "error",
     "traceback": [
      "\u001b[31m---------------------------------------------------------------------------\u001b[39m",
      "\u001b[31mValueError\u001b[39m                                Traceback (most recent call last)",
      "\u001b[36mCell\u001b[39m\u001b[36m \u001b[39m\u001b[32mIn[52]\u001b[39m\u001b[32m, line 6\u001b[39m\n\u001b[32m      4\u001b[39m \u001b[38;5;28mprint\u001b[39m(word.find(\u001b[33m'\u001b[39m\u001b[33md\u001b[39m\u001b[33m'\u001b[39m))\n\u001b[32m      5\u001b[39m \u001b[38;5;28mprint\u001b[39m(word.index(\u001b[33m'\u001b[39m\u001b[33mp\u001b[39m\u001b[33m'\u001b[39m))\n\u001b[32m----> \u001b[39m\u001b[32m6\u001b[39m \u001b[38;5;28mprint\u001b[39m(\u001b[43mword\u001b[49m\u001b[43m.\u001b[49m\u001b[43mindex\u001b[49m\u001b[43m(\u001b[49m\u001b[33;43m'\u001b[39;49m\u001b[33;43md\u001b[39;49m\u001b[33;43m'\u001b[39;49m\u001b[43m)\u001b[49m)  \u001b[38;5;66;03m# 인덱스는 문자 없으면 에러 발생\u001b[39;00m\n",
      "\u001b[31mValueError\u001b[39m: substring not found"
     ]
    }
   ],
   "source": [
    "word = 'happy'\n",
    "print(word.count('p'))\n",
    "print(word.find('p'))\n",
    "print(word.find('d'))\n",
    "print(word.index('p'))\n",
    "print(word.index('d'))  # 인덱스는 문자 없으면 에러 발생"
   ]
  },
  {
   "cell_type": "code",
   "execution_count": 70,
   "metadata": {},
   "outputs": [
    {
     "name": "stdout",
     "output_type": "stream",
     "text": [
      "h, a, p, p, y\n",
      "      hello... and... 'again'\n",
      "      HELLO... AND... 'AGAIN'\n",
      "hello... and... 'again'\n",
      "      hi... and... 'again'\n",
      "['hello...', 'and...', \"'again'\"]\n",
      "['      hello', 'and', \"'again'\"]\n"
     ]
    }
   ],
   "source": [
    "word2 = \", \".join(word)\n",
    "print(word2)\n",
    "\n",
    "sentence = \"... \".join([\"      hello\", \"and\", \"'again'\"])\n",
    "print(sentence)\n",
    "print(sentence.upper())\n",
    "print(sentence.strip())\n",
    "print(sentence.replace(\"hello\", \"hi\"))\n",
    "print(sentence.split())\n",
    "print(sentence.split(\"... \"))"
   ]
  }
 ],
 "metadata": {
  "kernelspec": {
   "display_name": "Python 3",
   "language": "python",
   "name": "python3"
  },
  "language_info": {
   "codemirror_mode": {
    "name": "ipython",
    "version": 3
   },
   "file_extension": ".py",
   "mimetype": "text/x-python",
   "name": "python",
   "nbconvert_exporter": "python",
   "pygments_lexer": "ipython3",
   "version": "3.13.3"
  }
 },
 "nbformat": 4,
 "nbformat_minor": 2
}
